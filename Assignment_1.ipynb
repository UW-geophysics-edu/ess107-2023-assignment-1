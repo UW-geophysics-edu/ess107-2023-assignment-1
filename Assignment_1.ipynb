{
 "cells": [
  {
   "cell_type": "markdown",
   "id": "f63ebcdc",
   "metadata": {},
   "source": [
    "# Assignment 1: Cryosphere Data Science Crash Course\n",
    "\n",
    "---\n",
    "\n",
    "### Learning outcomes\n",
    "#### 1. Gain a first exposure to coding.\n",
    "\n",
    "Learn how to run basic Python code (algeraic operations ```+```, ```-```, ```*```, ```/```, variables ```x=1```) in a Jupyter notebook\n",
    "    \n",
    "#### 2.  Use a ```function``` to calculate latent heat of fusion. \n",
    "Recall from lecture that the latent heat of fusion of ice is important in the Earth and Space Sciences  because it explains why ice stays around for so long into the Spring and Summer: it actually takes a lot of energy to melt water ice!  [Link to Wikipedia table of other materials](https://en.wikipedia.org/wiki/Latent_heat#Table_of_specific_latent_heats).  If we had solid nitrogen glaciers (like on Pluto; it would have to be a lot colder), these glaciers would have a very different behavior in the environment because solid nitrogen has a latent heat of fusion that is more than 10x smaller than water ice.\n",
    "\n",
    "    \n",
    "#### 3. Learn about historical records of lake ice\n",
    "\n",
    "a. Run code that downloads a dataset and loads it into a Jupyter Notebook\n",
    "\n",
    "b. Use ```pandas``` to look at a dataset of historical lake ice records\n",
    "\n",
    "---\n",
    "### Instructions\n",
    "\n",
    "1. Please read every line of this notebook.  \n",
    "2. Instructions that require you to do something are written in **bold.**\n",
    "3. Answer the questions in Assignment 1 (on Canvas)"
   ]
  },
  {
   "cell_type": "markdown",
   "id": "816c7f4a",
   "metadata": {},
   "source": [
    "# Part 1: Gain a first exposure to coding"
   ]
  },
  {
   "cell_type": "code",
   "execution_count": null,
   "id": "5850c64b",
   "metadata": {},
   "outputs": [],
   "source": [
    "# This block of coode is called a cell. \n",
    "# This line of code doesn't execute because its a comment -- denoted by the \"#\" at the beginning of the line."
   ]
  },
  {
   "cell_type": "markdown",
   "id": "a1861c78",
   "metadata": {},
   "source": [
    "**Try typing ```1+1``` below and then hold Shift and press Enter:**"
   ]
  },
  {
   "cell_type": "code",
   "execution_count": null,
   "id": "01eed2e8",
   "metadata": {},
   "outputs": [],
   "source": []
  },
  {
   "cell_type": "markdown",
   "id": "0eb44fcc",
   "metadata": {},
   "source": [
    "If you want to do fancier math, you'll need to \"import\" the functions, like this:"
   ]
  },
  {
   "cell_type": "code",
   "execution_count": null,
   "id": "ca0a4e5d",
   "metadata": {},
   "outputs": [],
   "source": [
    "from numpy import sin, sqrt, pi\n",
    "\n",
    "sin(pi/4)\n"
   ]
  },
  {
   "cell_type": "markdown",
   "id": "79c238b0",
   "metadata": {},
   "source": [
    "**Try some other imports in the cell below:**"
   ]
  },
  {
   "cell_type": "code",
   "execution_count": null,
   "id": "eaf13a45",
   "metadata": {},
   "outputs": [],
   "source": []
  },
  {
   "cell_type": "markdown",
   "id": "65455769",
   "metadata": {},
   "source": [
    "Variables in pythons are assigned by writing, for example ```a = 1```. **Execute the following code to see an example.**  Notice also how we use the ```print``` command."
   ]
  },
  {
   "cell_type": "code",
   "execution_count": null,
   "id": "9e0be4f0",
   "metadata": {
    "scrolled": true
   },
   "outputs": [],
   "source": [
    "x = 3\n",
    "y = 2\n",
    "\n",
    "u = x + y\n",
    "print(u)\n",
    "\n",
    "v = x * y\n",
    "print(v)"
   ]
  },
  {
   "cell_type": "markdown",
   "id": "a234644b",
   "metadata": {},
   "source": [
    "**In the cell below, write your own expressions using variables and the ```print``` command**"
   ]
  },
  {
   "cell_type": "code",
   "execution_count": null,
   "id": "450b6952",
   "metadata": {},
   "outputs": [],
   "source": []
  },
  {
   "cell_type": "markdown",
   "id": "08eba4f0",
   "metadata": {},
   "source": [
    "# Part 2: Using functions\n",
    "Just like in math, a function z = f(x,y) has inputs and outputs.  In Python, functions have the syntax,\n",
    "\n",
    "```\n",
    "def function_name (input1, intput2, input 3):\n",
    "    # do something\n",
    "    return output\n",
    "```\n",
    "    \n",
    "Here, we're going to work with a function called latent_heat_calculator. \n",
    "\n",
    "**Run the following cell to load the function into memory.**"
   ]
  },
  {
   "cell_type": "code",
   "execution_count": null,
   "id": "80065018",
   "metadata": {},
   "outputs": [],
   "source": [
    "def latent_heat_calculator(ci=2.090, #kJ/kg/degC\n",
    "            cw=4.186, # Specific heat of liquid water, kJ/kg/degC\n",
    "            mi=50,    # Mass of ice, g\n",
    "            mw=200,   # Mass of water, g\n",
    "            Tw0=0,    # Initial water temperature, deg C\n",
    "            Twf=0,    # Final water temperature, deg C\n",
    "            Tim=0,    # Water melting point, deg C\n",
    "            Ti0=-20,  # Initial temperature of ice\n",
    "            K_calorimeter=0, # Calibration constant of the calorimeter.  For our styrofoam container,\n",
    "                                 # we can approximate this as zero, (kJ/degC)\n",
    "            verbose=False):\n",
    "    Q_warming_the_water = cw*mw*(Tw0-Twf) /1e3 \n",
    "    if verbose: print(f'Energy to cool down initial water mass: Qswi = {Q_warming_the_water:.2f} kJ')\n",
    "\n",
    "    Q_heat_former_ice = cw*mi*(Twf - Tim) /1e3\n",
    "    if verbose: print(f'Specific heating of initial ice mass once it is liquid: {Q_heat_former_ice/1e3:.2f} kJ')\n",
    "\n",
    "    Qambient = K_calorimeter*(Tw0 - Twf)\n",
    "    if verbose: print(f'Heat lost to the environment: {Qambient:.4f} kJ')\n",
    "\n",
    "    Q_warm_the_ice = ci*mi*(Ti0-Tim)/1e3\n",
    "    if verbose: print(f'Specific heating of ice to the melting point: {Q_warm_the_ice/1e3:.2f} kJ')\n",
    "\n",
    "    Lf_exp = (Q_warming_the_water - Qambient - Q_heat_former_ice - Q_warm_the_ice)/mi\n",
    "#     Lf_exp = (Q_warming_the_water - Q_heat_former_ice)/mi\n",
    "    \n",
    "    return Lf_exp"
   ]
  },
  {
   "cell_type": "markdown",
   "id": "9d4d3954",
   "metadata": {},
   "source": [
    "**Run the following calculation to test**"
   ]
  },
  {
   "cell_type": "code",
   "execution_count": null,
   "id": "deb07256",
   "metadata": {
    "scrolled": true
   },
   "outputs": [],
   "source": [
    "Lf = latent_heat_calculator( Tw0 = 20,    # Initial water temperature\n",
    "                             Twf = 3.10,  # Final water temperature\n",
    "                             Ti0 = -20,   # Initial ice temperature\n",
    "                             mi = 50,     # Mass of ice\n",
    "                             mw = 200,    # Mass of water\n",
    "                             verbose=True # Print out message about the calculation\n",
    "                      )\n",
    "print('============================')\n",
    "print(f'Latent Heat of Fusion = {Lf} kJ/kg') # Notice how this syntax lets us combine variables and text"
   ]
  },
  {
   "cell_type": "markdown",
   "id": "c1948ef7",
   "metadata": {},
   "source": [
    "# Part 3: Analyzing a dataset about frozen lakes"
   ]
  },
  {
   "cell_type": "code",
   "execution_count": null,
   "id": "f4543462",
   "metadata": {},
   "outputs": [],
   "source": [
    "import pandas as pd\n",
    "import geopandas as gpd\n",
    "import numpy as np\n",
    "\n",
    "url_1=\"ftp://sidads.colorado.edu/pub/DATASETS/NOAA/G01377/liag_freeze_thaw_table.csv\"\n",
    "df1=pd.read_csv(url_1)\n",
    "df1 = df1[df1.longitude>-999]\n",
    "free_thaw_table = gpd.GeoDataFrame(df1, geometry=gpd.points_from_xy(df1.longitude, df1.latitude))\n"
   ]
  },
  {
   "cell_type": "code",
   "execution_count": null,
   "id": "6e9e28a1",
   "metadata": {},
   "outputs": [],
   "source": [
    "import matplotlib.pyplot as plt\n",
    "fig,ax = plt.subplots(figsize = (15,15))\n",
    "world = gpd.read_file(gpd.datasets.get_path('naturalearth_lowres'))\n",
    "world.plot(ax=ax)\n",
    "free_thaw_table = free_thaw_table[free_thaw_table.iceon_year > 0]\n",
    "free_thaw_table.plot(ax = ax, markersize = 20, color = 'red',marker = '*',label = 'Delhi')\n",
    "plt.show()"
   ]
  },
  {
   "cell_type": "markdown",
   "id": "aec4c84a",
   "metadata": {},
   "source": [
    "How many obserations are in this dataset? To answer this question we can use the built-in function ```len```. **Run the following line of code.**"
   ]
  },
  {
   "cell_type": "code",
   "execution_count": null,
   "id": "5dba5923",
   "metadata": {},
   "outputs": [],
   "source": [
    "len(free_thaw_table)"
   ]
  },
  {
   "cell_type": "markdown",
   "id": "da69eb3a",
   "metadata": {},
   "source": [
    "What is the oldest observation? Now use the built-in function ```min``` and use the ```.``` notation to access the ```iceon_year``` part of the table. **Run the following code**."
   ]
  },
  {
   "cell_type": "code",
   "execution_count": null,
   "id": "03892f0d",
   "metadata": {},
   "outputs": [],
   "source": [
    "min(free_thaw_table.iceon_year)"
   ]
  },
  {
   "cell_type": "code",
   "execution_count": null,
   "id": "4b56bbb3",
   "metadata": {},
   "outputs": [],
   "source": []
  }
 ],
 "metadata": {
  "kernelspec": {
   "display_name": "Python 3",
   "language": "python",
   "name": "python3"
  },
  "language_info": {
   "codemirror_mode": {
    "name": "ipython",
    "version": 3
   },
   "file_extension": ".py",
   "mimetype": "text/x-python",
   "name": "python",
   "nbconvert_exporter": "python",
   "pygments_lexer": "ipython3",
   "version": "3.9.13"
  }
 },
 "nbformat": 4,
 "nbformat_minor": 5
}
